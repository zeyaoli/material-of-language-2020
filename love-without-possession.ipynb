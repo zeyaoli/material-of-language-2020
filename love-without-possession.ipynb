{
 "cells": [
  {
   "cell_type": "code",
   "execution_count": 1,
   "metadata": {},
   "outputs": [],
   "source": [
    "import random\n",
    "import math"
   ]
  },
  {
   "cell_type": "code",
   "execution_count": 3,
   "metadata": {},
   "outputs": [],
   "source": [
    "from IPython.display import display, HTML\n",
    "def show_html(src):\n",
    "    return display(HTML(src), metadata=dict(isolated=True))"
   ]
  },
  {
   "cell_type": "code",
   "execution_count": 4,
   "metadata": {},
   "outputs": [],
   "source": [
    "html_tmpl = \"\"\"<!DOCTYPE html>\n",
    "<html lang=\"en\">\n",
    "<head>\n",
    "    <meta charset=\"utf-8\">\n",
    "    <title>{title}</title>\n",
    "    <style>\n",
    "    html {{ min-height: 32em; overflow: hidden; }}\n",
    "    </style>\n",
    "</head>\n",
    "<body>\n",
    "{content}\n",
    "</body>\n",
    "</html>\"\"\""
   ]
  },
  {
   "cell_type": "code",
   "execution_count": 7,
   "metadata": {},
   "outputs": [
    {
     "name": "stdout",
     "output_type": "stream",
     "text": [
      "<!DOCTYPE html>\n",
      "<html lang=\"en\">\n",
      "<head>\n",
      "    <meta charset=\"utf-8\">\n",
      "    <title>Love Without Possession</title>\n",
      "    <style>\n",
      "    html { min-height: 32em; overflow: hidden; }\n",
      "    </style>\n",
      "</head>\n",
      "<body>\n",
      "<h1>Love</h1>\n",
      "</body>\n",
      "</html>\n"
     ]
    }
   ],
   "source": [
    "interp_src = html_tmpl.format(title=\"Love Without Possession\", content=\"<h1>Love</h1>\")\n",
    "print(interp_src)"
   ]
  },
  {
   "cell_type": "code",
   "execution_count": 8,
   "metadata": {},
   "outputs": [
    {
     "data": {
      "text/html": [
       "<!DOCTYPE html>\n",
       "<html lang=\"en\">\n",
       "<head>\n",
       "    <meta charset=\"utf-8\">\n",
       "    <title>Love Without Possession</title>\n",
       "    <style>\n",
       "    html { min-height: 32em; overflow: hidden; }\n",
       "    </style>\n",
       "</head>\n",
       "<body>\n",
       "<h1>Love</h1>\n",
       "</body>\n",
       "</html>"
      ],
      "text/plain": [
       "<IPython.core.display.HTML object>"
      ]
     },
     "metadata": {
      "isolated": true
     },
     "output_type": "display_data"
    }
   ],
   "source": [
    "show_html(interp_src)"
   ]
  },
  {
   "cell_type": "code",
   "execution_count": 80,
   "metadata": {},
   "outputs": [],
   "source": [
    "divs = []\n",
    "for i in range(100):\n",
    "    x = random.random()*100\n",
    "    y = random.random()*35\n",
    "    size = random.randrange(4, 15)\n",
    "    alpha = random.random() * 0.8\n",
    "    this_div = f\"<div style='position: absolute; left: {x}%; top: {y}%; font-size: {size}pt; color: rgba(0,0,0,{alpha}'>★</div>\"\n",
    "    divs.append(this_div)\n",
    "love_x = random.random()*90\n",
    "love_y = random.random()*20\n",
    "love_size = random.randrange(10, 20)\n",
    "love_spacing = random.randrange(5, 15)\n",
    "love_div = f\"<div style='position:absolute; left:{love_x}%; top:{love_y}%; font-size:{love_size}px; letter-spacing:{love_spacing}em'>Love</div>\"\n",
    "divs.append(love_div)\n",
    "html_src = html_tmpl.format(title=\"random love\", content=\"\".join(divs))"
   ]
  },
  {
   "cell_type": "code",
   "execution_count": 81,
   "metadata": {},
   "outputs": [
    {
     "data": {
      "text/html": [
       "<!DOCTYPE html>\n",
       "<html lang=\"en\">\n",
       "<head>\n",
       "    <meta charset=\"utf-8\">\n",
       "    <title>random love</title>\n",
       "    <style>\n",
       "    html { min-height: 32em; overflow: hidden; }\n",
       "    </style>\n",
       "</head>\n",
       "<body>\n",
       "<div style='position: absolute; left: 46.02773155963307%; top: 9.802462164826387%; font-size: 6pt; color: rgba(0,0,0,0.10804245206656704'>★</div><div style='position: absolute; left: 29.670583044257803%; top: 11.738908251752147%; font-size: 12pt; color: rgba(0,0,0,0.42307785535474673'>★</div><div style='position: absolute; left: 4.147205204570614%; top: 0.05193383154668718%; font-size: 9pt; color: rgba(0,0,0,0.32964457049450363'>★</div><div style='position: absolute; left: 93.37110506834425%; top: 25.22838742131007%; font-size: 8pt; color: rgba(0,0,0,0.39863711374082195'>★</div><div style='position: absolute; left: 64.7920441616903%; top: 2.3195801515675525%; font-size: 7pt; color: rgba(0,0,0,0.7220568352121077'>★</div><div style='position: absolute; left: 50.31720083162126%; top: 33.53713985322163%; font-size: 5pt; color: rgba(0,0,0,0.3727916495270357'>★</div><div style='position: absolute; left: 57.57839395493468%; top: 22.59431444660447%; font-size: 9pt; color: rgba(0,0,0,0.7407173444425693'>★</div><div style='position: absolute; left: 81.13601871546388%; top: 6.994256242808248%; font-size: 13pt; color: rgba(0,0,0,0.3550482734075273'>★</div><div style='position: absolute; left: 22.15160903250385%; top: 24.835168301623995%; font-size: 6pt; color: rgba(0,0,0,0.7709242899301546'>★</div><div style='position: absolute; left: 92.011686464711%; top: 12.91329623815817%; font-size: 14pt; color: rgba(0,0,0,0.28886695058479717'>★</div><div style='position: absolute; left: 46.9588130395744%; top: 9.353805930186082%; font-size: 7pt; color: rgba(0,0,0,0.2516823128133842'>★</div><div style='position: absolute; left: 81.91532389984769%; top: 27.02365109465305%; font-size: 14pt; color: rgba(0,0,0,0.2391235949103571'>★</div><div style='position: absolute; left: 67.31134039400347%; top: 30.63818110256593%; font-size: 11pt; color: rgba(0,0,0,0.5482934201562273'>★</div><div style='position: absolute; left: 87.33057265852628%; top: 29.114481536885094%; font-size: 4pt; color: rgba(0,0,0,0.17808795925778106'>★</div><div style='position: absolute; left: 22.523067506284143%; top: 0.30700658052897845%; font-size: 10pt; color: rgba(0,0,0,0.4687983038048875'>★</div><div style='position: absolute; left: 65.66564157925866%; top: 12.134291894575144%; font-size: 14pt; color: rgba(0,0,0,0.6642497717032441'>★</div><div style='position: absolute; left: 38.27155170203683%; top: 1.363573259864268%; font-size: 8pt; color: rgba(0,0,0,0.2894757959132795'>★</div><div style='position: absolute; left: 35.19493598630903%; top: 26.298426583324662%; font-size: 5pt; color: rgba(0,0,0,0.3132870483118946'>★</div><div style='position: absolute; left: 74.2310470381532%; top: 27.75264963240026%; font-size: 12pt; color: rgba(0,0,0,0.3984910735785714'>★</div><div style='position: absolute; left: 58.11539617395025%; top: 25.024713542609454%; font-size: 14pt; color: rgba(0,0,0,0.39623918912955686'>★</div><div style='position: absolute; left: 3.5139369595234005%; top: 21.87098312229762%; font-size: 12pt; color: rgba(0,0,0,0.6633788727911019'>★</div><div style='position: absolute; left: 94.51108274492994%; top: 14.24906980353418%; font-size: 5pt; color: rgba(0,0,0,0.6132734135719549'>★</div><div style='position: absolute; left: 47.51166212666138%; top: 9.853495535284504%; font-size: 10pt; color: rgba(0,0,0,0.4181281950167055'>★</div><div style='position: absolute; left: 33.02832668204875%; top: 19.097664861967587%; font-size: 4pt; color: rgba(0,0,0,0.3030357842379367'>★</div><div style='position: absolute; left: 80.08145461801631%; top: 10.359181090277254%; font-size: 14pt; color: rgba(0,0,0,0.5545405335910175'>★</div><div style='position: absolute; left: 98.77468044866704%; top: 22.939406902278343%; font-size: 7pt; color: rgba(0,0,0,0.6422510138967953'>★</div><div style='position: absolute; left: 67.04260553122432%; top: 28.155005195268796%; font-size: 14pt; color: rgba(0,0,0,0.3320118105344908'>★</div><div style='position: absolute; left: 27.46364812566001%; top: 21.212658044464618%; font-size: 6pt; color: rgba(0,0,0,0.5972209975764253'>★</div><div style='position: absolute; left: 31.984492633369587%; top: 5.3797705137774505%; font-size: 5pt; color: rgba(0,0,0,0.286662677197196'>★</div><div style='position: absolute; left: 52.44054118265766%; top: 32.30059403154791%; font-size: 14pt; color: rgba(0,0,0,0.36395653213654466'>★</div><div style='position: absolute; left: 91.96650539816902%; top: 15.64778811599611%; font-size: 4pt; color: rgba(0,0,0,0.48092313873342596'>★</div><div style='position: absolute; left: 38.36434162857213%; top: 15.203474972933803%; font-size: 13pt; color: rgba(0,0,0,0.29473225770576'>★</div><div style='position: absolute; left: 99.1105787294154%; top: 19.29744661336108%; font-size: 8pt; color: rgba(0,0,0,0.26895402752808545'>★</div><div style='position: absolute; left: 8.962856980436829%; top: 26.074068432172382%; font-size: 8pt; color: rgba(0,0,0,0.34696098866081243'>★</div><div style='position: absolute; left: 80.00342286770031%; top: 8.216994803520533%; font-size: 5pt; color: rgba(0,0,0,0.6850627220162262'>★</div><div style='position: absolute; left: 36.643378355174114%; top: 14.160702778072459%; font-size: 7pt; color: rgba(0,0,0,0.6802870421141184'>★</div><div style='position: absolute; left: 94.7516343329012%; top: 11.105869659626617%; font-size: 11pt; color: rgba(0,0,0,0.32033571660033355'>★</div><div style='position: absolute; left: 91.87701020329855%; top: 24.952889936513976%; font-size: 10pt; color: rgba(0,0,0,0.36170084084490245'>★</div><div style='position: absolute; left: 71.30321238607247%; top: 24.43507728532732%; font-size: 11pt; color: rgba(0,0,0,0.07713899074523606'>★</div><div style='position: absolute; left: 9.231306288775976%; top: 20.256370573545183%; font-size: 12pt; color: rgba(0,0,0,0.6042142402646'>★</div><div style='position: absolute; left: 96.24017010913737%; top: 4.607098213167534%; font-size: 10pt; color: rgba(0,0,0,0.17260159002606523'>★</div><div style='position: absolute; left: 98.26513840039286%; top: 3.969852987618003%; font-size: 14pt; color: rgba(0,0,0,0.6210021304605504'>★</div><div style='position: absolute; left: 91.01980706356485%; top: 23.987448716762753%; font-size: 5pt; color: rgba(0,0,0,0.7007226427594897'>★</div><div style='position: absolute; left: 38.921099142930494%; top: 33.45081755462513%; font-size: 5pt; color: rgba(0,0,0,0.5453429086450448'>★</div><div style='position: absolute; left: 41.84982138802976%; top: 15.755919640225262%; font-size: 14pt; color: rgba(0,0,0,0.4169657319268611'>★</div><div style='position: absolute; left: 44.775970784194286%; top: 27.71386959025324%; font-size: 11pt; color: rgba(0,0,0,0.29913291157386146'>★</div><div style='position: absolute; left: 27.681920481740118%; top: 8.293259121062722%; font-size: 9pt; color: rgba(0,0,0,0.09731632661199577'>★</div><div style='position: absolute; left: 14.650420783229812%; top: 20.19000470567138%; font-size: 7pt; color: rgba(0,0,0,0.660610726045962'>★</div><div style='position: absolute; left: 83.54649705517782%; top: 21.55073126807328%; font-size: 12pt; color: rgba(0,0,0,0.40286584159095007'>★</div><div style='position: absolute; left: 51.406176609370306%; top: 8.50238550845106%; font-size: 6pt; color: rgba(0,0,0,0.49879473787092987'>★</div><div style='position: absolute; left: 96.88604152631676%; top: 8.43802616140966%; font-size: 14pt; color: rgba(0,0,0,0.23714907746559977'>★</div><div style='position: absolute; left: 16.392736726083513%; top: 31.63004704996178%; font-size: 11pt; color: rgba(0,0,0,0.09935938421114453'>★</div><div style='position: absolute; left: 5.412454124781596%; top: 5.544208357488988%; font-size: 14pt; color: rgba(0,0,0,0.4612056705366927'>★</div><div style='position: absolute; left: 25.65549764582069%; top: 19.045800041302307%; font-size: 10pt; color: rgba(0,0,0,0.2044512354671123'>★</div><div style='position: absolute; left: 21.667140948706187%; top: 28.81446956845982%; font-size: 10pt; color: rgba(0,0,0,0.6292403547663916'>★</div><div style='position: absolute; left: 4.8960646075637655%; top: 30.32596103675024%; font-size: 14pt; color: rgba(0,0,0,0.08873020816174018'>★</div><div style='position: absolute; left: 89.48595643169051%; top: 15.973344586673816%; font-size: 4pt; color: rgba(0,0,0,0.5947348503597388'>★</div><div style='position: absolute; left: 85.75070811510902%; top: 4.070781395376988%; font-size: 8pt; color: rgba(0,0,0,0.7165572329217195'>★</div><div style='position: absolute; left: 87.67783756958637%; top: 20.585061372098888%; font-size: 8pt; color: rgba(0,0,0,0.406941420938014'>★</div><div style='position: absolute; left: 65.97374214765304%; top: 3.5591901482031356%; font-size: 13pt; color: rgba(0,0,0,0.17902291175278756'>★</div><div style='position: absolute; left: 33.13641652492277%; top: 13.482826060113924%; font-size: 11pt; color: rgba(0,0,0,0.7307406005154831'>★</div><div style='position: absolute; left: 7.7870184792959485%; top: 25.464411017874422%; font-size: 10pt; color: rgba(0,0,0,0.7637613378717741'>★</div><div style='position: absolute; left: 70.66387534061572%; top: 30.817714969819594%; font-size: 6pt; color: rgba(0,0,0,0.2305199907045843'>★</div><div style='position: absolute; left: 40.936093364164805%; top: 27.832414842869643%; font-size: 9pt; color: rgba(0,0,0,0.45630744455619743'>★</div><div style='position: absolute; left: 98.13821977635337%; top: 17.327732565366222%; font-size: 4pt; color: rgba(0,0,0,0.7567114365324119'>★</div><div style='position: absolute; left: 76.80503620981308%; top: 13.738936070525803%; font-size: 7pt; color: rgba(0,0,0,0.3905459426266088'>★</div><div style='position: absolute; left: 77.97842511531711%; top: 18.048147368203537%; font-size: 14pt; color: rgba(0,0,0,0.19809894086421753'>★</div><div style='position: absolute; left: 35.47018338221217%; top: 2.314633196209207%; font-size: 7pt; color: rgba(0,0,0,0.4457765693306357'>★</div><div style='position: absolute; left: 89.12938017769316%; top: 2.126356542625794%; font-size: 12pt; color: rgba(0,0,0,0.3324299758850817'>★</div><div style='position: absolute; left: 76.30469430785001%; top: 25.895062636750332%; font-size: 11pt; color: rgba(0,0,0,0.3595744798392265'>★</div><div style='position: absolute; left: 74.17925036204564%; top: 28.53162874352957%; font-size: 14pt; color: rgba(0,0,0,0.334462284308266'>★</div><div style='position: absolute; left: 12.520884371412045%; top: 23.053224831257854%; font-size: 14pt; color: rgba(0,0,0,0.381709760269176'>★</div><div style='position: absolute; left: 1.7275767145952692%; top: 30.468396918245986%; font-size: 7pt; color: rgba(0,0,0,0.3186881829065432'>★</div><div style='position: absolute; left: 4.985553941118582%; top: 19.405671154402377%; font-size: 13pt; color: rgba(0,0,0,0.12000647679017461'>★</div><div style='position: absolute; left: 63.72250619958765%; top: 12.729063845504268%; font-size: 8pt; color: rgba(0,0,0,0.2365612299265375'>★</div><div style='position: absolute; left: 54.362364291496334%; top: 31.314787224286846%; font-size: 5pt; color: rgba(0,0,0,0.2049607425662079'>★</div><div style='position: absolute; left: 28.983280586218818%; top: 13.125615061982069%; font-size: 4pt; color: rgba(0,0,0,0.4213114338048266'>★</div><div style='position: absolute; left: 90.20541783707336%; top: 0.3839433281255139%; font-size: 7pt; color: rgba(0,0,0,0.6869605496524944'>★</div><div style='position: absolute; left: 10.567141616501507%; top: 7.080944196207102%; font-size: 6pt; color: rgba(0,0,0,0.23135493926904244'>★</div><div style='position: absolute; left: 34.233388531315946%; top: 1.3869181029065147%; font-size: 7pt; color: rgba(0,0,0,0.1364817551552094'>★</div><div style='position: absolute; left: 8.095892494375857%; top: 27.768643145578192%; font-size: 13pt; color: rgba(0,0,0,0.29279125341882123'>★</div><div style='position: absolute; left: 21.416319671361773%; top: 5.643713009413968%; font-size: 4pt; color: rgba(0,0,0,0.7582443200962029'>★</div><div style='position: absolute; left: 48.06779334253572%; top: 17.728731129711345%; font-size: 12pt; color: rgba(0,0,0,0.021157594511851754'>★</div><div style='position: absolute; left: 99.83109563391818%; top: 9.600092406100101%; font-size: 11pt; color: rgba(0,0,0,0.49742893032546853'>★</div><div style='position: absolute; left: 35.55228615325814%; top: 20.350647890730986%; font-size: 12pt; color: rgba(0,0,0,0.6364556405289534'>★</div><div style='position: absolute; left: 83.5296414433021%; top: 14.634152734481681%; font-size: 4pt; color: rgba(0,0,0,0.11818400852903732'>★</div><div style='position: absolute; left: 26.836985474235487%; top: 33.02426568598611%; font-size: 8pt; color: rgba(0,0,0,0.3591941652040448'>★</div><div style='position: absolute; left: 95.36037856268243%; top: 4.437652013104762%; font-size: 8pt; color: rgba(0,0,0,0.7240448028966694'>★</div><div style='position: absolute; left: 68.58049581920037%; top: 8.79830279222732%; font-size: 13pt; color: rgba(0,0,0,0.6467022153117451'>★</div><div style='position: absolute; left: 35.28768739239324%; top: 25.506786119722985%; font-size: 9pt; color: rgba(0,0,0,0.548548760462165'>★</div><div style='position: absolute; left: 65.83852592808226%; top: 2.312928339632556%; font-size: 5pt; color: rgba(0,0,0,0.5181769129157131'>★</div><div style='position: absolute; left: 98.0606828781095%; top: 6.5578906469397875%; font-size: 4pt; color: rgba(0,0,0,0.23113506325117444'>★</div><div style='position: absolute; left: 23.03076157489198%; top: 15.671297578687396%; font-size: 6pt; color: rgba(0,0,0,0.5942564271829841'>★</div><div style='position: absolute; left: 33.77005084403169%; top: 21.19741980572736%; font-size: 7pt; color: rgba(0,0,0,0.6450582680811202'>★</div><div style='position: absolute; left: 35.03952963723758%; top: 16.705268589636525%; font-size: 4pt; color: rgba(0,0,0,0.36920230964344647'>★</div><div style='position: absolute; left: 28.211734320606574%; top: 30.24865662830082%; font-size: 14pt; color: rgba(0,0,0,0.19613267074593238'>★</div><div style='position: absolute; left: 39.29783812396459%; top: 9.49333830206432%; font-size: 6pt; color: rgba(0,0,0,0.12086260454897975'>★</div><div style='position: absolute; left: 38.31051161148808%; top: 28.95605429078964%; font-size: 4pt; color: rgba(0,0,0,0.4225577518058681'>★</div><div style='position: absolute; left: 9.854863287750437%; top: 6.702638152192329%; font-size: 7pt; color: rgba(0,0,0,0.30871095884466365'>★</div><div style='position: absolute; left: 99.04157447991643%; top: 13.266345838365076%; font-size: 11pt; color: rgba(0,0,0,0.26174563986502025'>★</div><div style='position:absolute; left:43.27210695442497%; top:19.478090180395156%; font-size:12px; letter-spacing:5em'>Love</div>\n",
       "</body>\n",
       "</html>"
      ],
      "text/plain": [
       "<IPython.core.display.HTML object>"
      ]
     },
     "metadata": {
      "isolated": true
     },
     "output_type": "display_data"
    }
   ],
   "source": [
    "show_html(html_src)"
   ]
  },
  {
   "cell_type": "code",
   "execution_count": 154,
   "metadata": {},
   "outputs": [],
   "source": [
    "divs = []\n",
    "x = random.random()*90\n",
    "y = random.random()*90\n",
    "size = random.random()*30\n",
    "this_div = f\"<div style='position:absolute; font_size:{size}px; left: {x}%; top: {y}%;'>Love</div>\"\n",
    "divs.append(this_div)\n",
    "html_src = html_tmpl.format(title=\"random love\", content=\"\".join(divs))"
   ]
  },
  {
   "cell_type": "code",
   "execution_count": 155,
   "metadata": {},
   "outputs": [
    {
     "data": {
      "text/html": [
       "<!DOCTYPE html>\n",
       "<html lang=\"en\">\n",
       "<head>\n",
       "    <meta charset=\"utf-8\">\n",
       "    <title>random love</title>\n",
       "    <style>\n",
       "    html { min-height: 32em; overflow: hidden; }\n",
       "    </style>\n",
       "</head>\n",
       "<body>\n",
       "<div style='position:absolute; font_size:10.673517685042427px; left: 67.64535047485636%; top: 44.36186223118242%;'>Love</div>\n",
       "</body>\n",
       "</html>"
      ],
      "text/plain": [
       "<IPython.core.display.HTML object>"
      ]
     },
     "metadata": {
      "isolated": true
     },
     "output_type": "display_data"
    }
   ],
   "source": [
    "show_html(html_src)"
   ]
  },
  {
   "cell_type": "code",
   "execution_count": 160,
   "metadata": {},
   "outputs": [],
   "source": [
    "divs = []\n",
    "x = random.random()*90\n",
    "y = random.random()*90\n",
    "size = random.random()*30\n",
    "spacing=random.random()*10\n",
    "this_div = f\"<div style='position:absolute; font_size:{size}px; letter-spacing:{spacing}em; left: {x}%; top: {y}%;'>Love</div>\"\n",
    "divs.append(this_div)\n",
    "html_src = html_tmpl.format(title=\"random love\", content=\"\".join(divs))"
   ]
  },
  {
   "cell_type": "code",
   "execution_count": 161,
   "metadata": {},
   "outputs": [
    {
     "data": {
      "text/html": [
       "<!DOCTYPE html>\n",
       "<html lang=\"en\">\n",
       "<head>\n",
       "    <meta charset=\"utf-8\">\n",
       "    <title>random love</title>\n",
       "    <style>\n",
       "    html { min-height: 32em; overflow: hidden; }\n",
       "    </style>\n",
       "</head>\n",
       "<body>\n",
       "<div style='position:absolute; font_size:0.30715099183748595px; letter-spacing:1.9760419713794553em; left: 60.29810385291312%; top: 21.060163745724847%;'>Love</div>\n",
       "</body>\n",
       "</html>"
      ],
      "text/plain": [
       "<IPython.core.display.HTML object>"
      ]
     },
     "metadata": {
      "isolated": true
     },
     "output_type": "display_data"
    }
   ],
   "source": [
    "show_html(html_src)"
   ]
  },
  {
   "cell_type": "code",
   "execution_count": 82,
   "metadata": {},
   "outputs": [],
   "source": [
    "def mkdiv(content, **kwargs):\n",
    "    if 'position' not in kwargs:\n",
    "        kwargs['position'] = 'absolute'\n",
    "    style_str = ' '.join([\": \".join((k.replace('_', '-'), v))+\";\" for k, v in kwargs.items()])\n",
    "    return f\"<div style='{style_str}'>{content}</div>\""
   ]
  },
  {
   "cell_type": "code",
   "execution_count": 153,
   "metadata": {},
   "outputs": [
    {
     "data": {
      "text/html": [
       "<!DOCTYPE html>\n",
       "<html lang=\"en\">\n",
       "<head>\n",
       "    <meta charset=\"utf-8\">\n",
       "    <title>no recipient</title>\n",
       "    <style>\n",
       "    html { min-height: 32em; overflow: hidden; }\n",
       "    </style>\n",
       "</head>\n",
       "<body>\n",
       "<div style='position: absolute; top: 30%; left: 29%; font-size: 16pt;'>This</div><div style='position: absolute; top: 56%; left: 64%; font-size: 16pt;'>love</div><div style='position: absolute; top: 47%; left: 59%; font-size: 16pt;'>has</div><div style='position: absolute; top: 41%; left: 68%; font-size: 20pt;'>no</div><div style='position: absolute; top: 50%; left: 65%; font-size: 20pt;'>no</div><div style='position: absolute; top: 73%; left: 61%; font-size: 20pt;'>no</div><div style='position: absolute; top: 46%; left: 54%; font-size: 20pt;'>no</div><div style='position: absolute; top: 68%; left: 57%; font-size: 20pt;'>no</div><div style='position: absolute; top: 39%; left: 26%; font-size: 20pt;'>no</div><div style='position: absolute; top: 48%; left: 51%; font-size: 20pt;'>no</div><div style='position: absolute; top: 42%; left: 41%; font-size: 20pt;'>no</div><div style='position: absolute; top: 64%; left: 30%; font-size: 20pt;'>no</div><div style='position: absolute; top: 68%; left: 35%; font-size: 20pt;'>no</div><div style='position: absolute; top: 46%; left: 49%; font-size: 12pt;'>r</div><div style='position: absolute; top: 45%; left: 41%; font-size: 12pt;'>e</div><div style='position: absolute; top: 46%; left: 46%; font-size: 12pt;'>c</div><div style='position: absolute; top: 35%; left: 53%; font-size: 12pt;'>i</div><div style='position: absolute; top: 38%; left: 54%; font-size: 12pt;'>p</div><div style='position: absolute; top: 53%; left: 37%; font-size: 12pt;'>i</div><div style='position: absolute; top: 42%; left: 54%; font-size: 12pt;'>e</div><div style='position: absolute; top: 38%; left: 42%; font-size: 12pt;'>n</div><div style='position: absolute; top: 48%; left: 41%; font-size: 12pt;'>t</div>\n",
       "</body>\n",
       "</html>"
      ],
      "text/plain": [
       "<IPython.core.display.HTML object>"
      ]
     },
     "metadata": {
      "isolated": true
     },
     "output_type": "display_data"
    }
   ],
   "source": [
    "src=\"This love has\"\n",
    "divs = []\n",
    "\n",
    "for word in src.split():\n",
    "    this_div = mkdiv(word,\n",
    "                     position=\"absolute\",\n",
    "                     top=f\"{random.randrange(25, 75)}%\",\n",
    "                     left=f\"{random.randrange(25, 75)}%\",\n",
    "                     font_size=\"16pt\")\n",
    "    divs.append(this_div)\n",
    "    \n",
    "\n",
    "for no in range(10):\n",
    "    no = \"no\"\n",
    "    no_display = mkdiv(no,\n",
    "                    position=\"absolute\",\n",
    "                    top=f\"{random.randrange(25, 75)}%\",\n",
    "                    left=f\"{random.randrange(25, 75)}%\",\n",
    "                    font_size=\"20pt\")\n",
    "    divs.append(no_display)\n",
    "    \n",
    "src_r = \"recipient\"\n",
    "for ch in src_r:\n",
    "    r_display = mkdiv(ch,\n",
    "                    position=\"absolute\",\n",
    "                    top=f\"{random.randrange(35, 55)}%\",\n",
    "                    left=f\"{random.randrange(35, 55)}%\",\n",
    "                    font_size=\"12pt\")\n",
    "    divs.append(r_display)\n",
    "\n",
    "html_src = html_tmpl.format(title=\"no recipient\", content=\"\".join(divs))\n",
    "show_html(html_src)"
   ]
  },
  {
   "cell_type": "code",
   "execution_count": 147,
   "metadata": {},
   "outputs": [
    {
     "data": {
      "text/html": [
       "<!DOCTYPE html>\n",
       "<html lang=\"en\">\n",
       "<head>\n",
       "    <meta charset=\"utf-8\">\n",
       "    <title>love collided</title>\n",
       "    <style>\n",
       "    html { min-height: 32em; overflow: hidden; }\n",
       "    </style>\n",
       "</head>\n",
       "<body>\n",
       "<div style='position: absolute; top: 53%; left: 49%; font-size: 16pt;'>l</div><div style='position: absolute; top: 49%; left: 54%; font-size: 16pt;'>o</div><div style='position: absolute; top: 46%; left: 52%; font-size: 16pt;'>v</div><div style='position: absolute; top: 54%; left: 54%; font-size: 16pt;'>e</div><div style='position: absolute; top: 54%; left: 53%; font-size: 16pt;'> </div><div style='position: absolute; top: 53%; left: 52%; font-size: 16pt;'>l</div><div style='position: absolute; top: 50%; left: 49%; font-size: 16pt;'>o</div><div style='position: absolute; top: 53%; left: 48%; font-size: 16pt;'>v</div><div style='position: absolute; top: 50%; left: 53%; font-size: 16pt;'>e</div>\n",
       "</body>\n",
       "</html>"
      ],
      "text/plain": [
       "<IPython.core.display.HTML object>"
      ]
     },
     "metadata": {
      "isolated": true
     },
     "output_type": "display_data"
    }
   ],
   "source": [
    "src = \"love love\"\n",
    "divs = []\n",
    "for ch in src:\n",
    "    this_div = mkdiv(ch, \n",
    "                    position=\"absolute\",\n",
    "                     top=f\"{random.randrange(45, 55)}%\",\n",
    "                     left=f\"{random.randrange(45, 55)}%\",\n",
    "                     font_size=\"16pt\")\n",
    "    divs.append(this_div)\n",
    "    \n",
    "html_src = html_tmpl.format(title=\"love collided\", content=\"\".join(divs))\n",
    "show_html(html_src)"
   ]
  },
  {
   "cell_type": "code",
   "execution_count": 164,
   "metadata": {},
   "outputs": [
    {
     "data": {
      "text/html": [
       "<!DOCTYPE html>\n",
       "<html lang=\"en\">\n",
       "<head>\n",
       "    <meta charset=\"utf-8\">\n",
       "    <title>desolation</title>\n",
       "    <style>\n",
       "    html { min-height: 32em; overflow: hidden; }\n",
       "    </style>\n",
       "</head>\n",
       "<body>\n",
       "<div style='top: 86%; left: 28%; transform: translate(-50%, -50%); font-size: 14pt; position: absolute;'>What</div><div style='top: 89%; left: 62%; transform: translate(-50%, -50%); font-size: 14pt; position: absolute;'>would</div><div style='top: 85%; left: 52%; transform: translate(-50%, -50%); font-size: 14pt; position: absolute;'>be</div><div style='top: 94%; left: 74%; transform: translate(-50%, -50%); font-size: 14pt; position: absolute;'>the</div><div style='top: 76%; left: 18%; transform: translate(-50%, -50%); font-size: 14pt; position: absolute;'>use</div><div style='top: 89%; left: 87%; transform: translate(-50%, -50%); font-size: 14pt; position: absolute;'>in</div><div style='top: 81%; left: 85%; transform: translate(-50%, -50%); font-size: 14pt; position: absolute;'>becoming</div><div style='top: 80%; left: 45%; transform: translate(-50%, -50%); font-size: 14pt; position: absolute;'>A</div><div style='top: 78%; left: 79%; transform: translate(-50%, -50%); font-size: 14pt; position: absolute;'>symbol</div><div style='top: 83%; left: 37%; transform: translate(-50%, -50%); font-size: 14pt; position: absolute;'>of</div><div style='top: 85%; left: 83%; transform: translate(-50%, -50%); font-size: 14pt; position: absolute;'>walking</div><div style='top: 87%; left: 20%; transform: translate(-50%, -50%); font-size: 14pt; position: absolute;'>desolation?</div>\n",
       "</body>\n",
       "</html>"
      ],
      "text/plain": [
       "<IPython.core.display.HTML object>"
      ]
     },
     "metadata": {
      "isolated": true
     },
     "output_type": "display_data"
    }
   ],
   "source": [
    "src = \"What would be the use in becoming A symbol of walking desolation?\"\n",
    "divs = []\n",
    "for word in src.split():\n",
    "    this_div = mkdiv(word,\n",
    "                     top=f\"{random.randrange(75, 95)}%\",\n",
    "                     left=f\"{random.randrange(10,90)}%\",\n",
    "                     transform=\"translate(-50%, -50%)\",\n",
    "                     font_size=\"14pt\"\n",
    "                    )\n",
    "    divs.append(this_div)\n",
    "html_src = html_tmpl.format(title=\"desolation\", content=\"\".join(divs))\n",
    "show_html(html_src)"
   ]
  },
  {
   "cell_type": "code",
   "execution_count": 167,
   "metadata": {},
   "outputs": [
    {
     "data": {
      "text/html": [
       "<!DOCTYPE html>\n",
       "<html lang=\"en\">\n",
       "<head>\n",
       "    <meta charset=\"utf-8\">\n",
       "    <title>love desolation</title>\n",
       "    <style>\n",
       "    html { min-height: 32em; overflow: hidden; }\n",
       "    </style>\n",
       "</head>\n",
       "<body>\n",
       "<div style='top: 94%; left: 29%; transform: translate(-50%, -50%); font-size: 14pt; position: absolute;'>love</div><div style='top: 88%; left: 48%; transform: translate(-50%, -50%); font-size: 14pt; position: absolute;'>love</div><div style='top: 83%; left: 57%; transform: translate(-50%, -50%); font-size: 14pt; position: absolute;'>love</div><div style='top: 94%; left: 76%; transform: translate(-50%, -50%); font-size: 14pt; position: absolute;'>love</div><div style='top: 82%; left: 38%; transform: translate(-50%, -50%); font-size: 14pt; position: absolute;'>love</div><div style='top: 87%; left: 66%; transform: translate(-50%, -50%); font-size: 14pt; position: absolute;'>love</div><div style='top: 86%; left: 30%; transform: translate(-50%, -50%); font-size: 14pt; position: absolute;'>love</div><div style='top: 93%; left: 10%; transform: translate(-50%, -50%); font-size: 14pt; position: absolute;'>love</div><div style='top: 86%; left: 57%; transform: translate(-50%, -50%); font-size: 14pt; position: absolute;'>love</div><div style='top: 91%; left: 25%; transform: translate(-50%, -50%); font-size: 14pt; position: absolute;'>love</div><div style='top: 93%; left: 52%; transform: translate(-50%, -50%); font-size: 14pt; position: absolute;'>love</div><div style='top: 80%; left: 69%; transform: translate(-50%, -50%); font-size: 14pt; position: absolute;'>love</div><div style='top: 82%; left: 40%; transform: translate(-50%, -50%); font-size: 14pt; position: absolute;'>love</div><div style='top: 80%; left: 41%; transform: translate(-50%, -50%); font-size: 14pt; position: absolute;'>love</div><div style='top: 92%; left: 41%; transform: translate(-50%, -50%); font-size: 14pt; position: absolute;'>love</div><div style='top: 80%; left: 40%; transform: translate(-50%, -50%); font-size: 14pt; position: absolute;'>love</div><div style='top: 82%; left: 47%; transform: translate(-50%, -50%); font-size: 14pt; position: absolute;'>love</div><div style='top: 89%; left: 71%; transform: translate(-50%, -50%); font-size: 14pt; position: absolute;'>love</div><div style='top: 83%; left: 71%; transform: translate(-50%, -50%); font-size: 14pt; position: absolute;'>love</div><div style='top: 88%; left: 49%; transform: translate(-50%, -50%); font-size: 14pt; position: absolute;'>love</div><div style='top: 80%; left: 30%; transform: translate(-50%, -50%); font-size: 14pt; position: absolute;'>love</div><div style='top: 92%; left: 67%; transform: translate(-50%, -50%); font-size: 14pt; position: absolute;'>love</div><div style='top: 88%; left: 23%; transform: translate(-50%, -50%); font-size: 14pt; position: absolute;'>love</div><div style='top: 88%; left: 78%; transform: translate(-50%, -50%); font-size: 14pt; position: absolute;'>love</div><div style='top: 89%; left: 17%; transform: translate(-50%, -50%); font-size: 14pt; position: absolute;'>love</div><div style='top: 91%; left: 71%; transform: translate(-50%, -50%); font-size: 14pt; position: absolute;'>love</div><div style='top: 86%; left: 22%; transform: translate(-50%, -50%); font-size: 14pt; position: absolute;'>love</div><div style='top: 91%; left: 82%; transform: translate(-50%, -50%); font-size: 14pt; position: absolute;'>love</div><div style='top: 82%; left: 76%; transform: translate(-50%, -50%); font-size: 14pt; position: absolute;'>love</div><div style='top: 86%; left: 66%; transform: translate(-50%, -50%); font-size: 14pt; position: absolute;'>love</div><div style='top: 84%; left: 69%; transform: translate(-50%, -50%); font-size: 14pt; position: absolute;'>love</div><div style='top: 92%; left: 62%; transform: translate(-50%, -50%); font-size: 14pt; position: absolute;'>love</div><div style='top: 83%; left: 70%; transform: translate(-50%, -50%); font-size: 14pt; position: absolute;'>love</div><div style='top: 86%; left: 11%; transform: translate(-50%, -50%); font-size: 14pt; position: absolute;'>love</div><div style='top: 94%; left: 55%; transform: translate(-50%, -50%); font-size: 14pt; position: absolute;'>love</div><div style='top: 93%; left: 63%; transform: translate(-50%, -50%); font-size: 14pt; position: absolute;'>love</div><div style='top: 84%; left: 34%; transform: translate(-50%, -50%); font-size: 14pt; position: absolute;'>love</div><div style='top: 88%; left: 64%; transform: translate(-50%, -50%); font-size: 14pt; position: absolute;'>love</div><div style='top: 90%; left: 75%; transform: translate(-50%, -50%); font-size: 14pt; position: absolute;'>love</div><div style='top: 90%; left: 62%; transform: translate(-50%, -50%); font-size: 14pt; position: absolute;'>love</div><div style='top: 94%; left: 18%; transform: translate(-50%, -50%); font-size: 14pt; position: absolute;'>love</div><div style='top: 81%; left: 80%; transform: translate(-50%, -50%); font-size: 14pt; position: absolute;'>love</div><div style='top: 83%; left: 45%; transform: translate(-50%, -50%); font-size: 14pt; position: absolute;'>love</div><div style='top: 93%; left: 39%; transform: translate(-50%, -50%); font-size: 14pt; position: absolute;'>love</div><div style='top: 81%; left: 62%; transform: translate(-50%, -50%); font-size: 14pt; position: absolute;'>love</div><div style='top: 86%; left: 42%; transform: translate(-50%, -50%); font-size: 14pt; position: absolute;'>love</div><div style='top: 81%; left: 26%; transform: translate(-50%, -50%); font-size: 14pt; position: absolute;'>love</div><div style='top: 83%; left: 49%; transform: translate(-50%, -50%); font-size: 14pt; position: absolute;'>love</div><div style='top: 80%; left: 81%; transform: translate(-50%, -50%); font-size: 14pt; position: absolute;'>love</div><div style='top: 84%; left: 53%; transform: translate(-50%, -50%); font-size: 14pt; position: absolute;'>love</div>\n",
       "</body>\n",
       "</html>"
      ],
      "text/plain": [
       "<IPython.core.display.HTML object>"
      ]
     },
     "metadata": {
      "isolated": true
     },
     "output_type": "display_data"
    }
   ],
   "source": [
    "\n",
    "divs = []\n",
    "for word in range(50):\n",
    "    love = \"love\"\n",
    "    this_div = mkdiv(love,\n",
    "                     top=f\"{random.randrange(80, 95)}%\",\n",
    "                     left=f\"{random.randrange(10,90)}%\",\n",
    "                     transform=\"translate(-50%, -50%)\",\n",
    "                     font_size=\"14pt\"\n",
    "                    )\n",
    "    divs.append(this_div)\n",
    "html_src = html_tmpl.format(title=\"love desolation\", content=\"\".join(divs))\n",
    "show_html(html_src)"
   ]
  },
  {
   "cell_type": "code",
   "execution_count": null,
   "metadata": {},
   "outputs": [],
   "source": []
  }
 ],
 "metadata": {
  "kernelspec": {
   "display_name": "Python 3",
   "language": "python",
   "name": "python3"
  },
  "language_info": {
   "codemirror_mode": {
    "name": "ipython",
    "version": 3
   },
   "file_extension": ".py",
   "mimetype": "text/x-python",
   "name": "python",
   "nbconvert_exporter": "python",
   "pygments_lexer": "ipython3",
   "version": "3.7.4"
  }
 },
 "nbformat": 4,
 "nbformat_minor": 2
}
